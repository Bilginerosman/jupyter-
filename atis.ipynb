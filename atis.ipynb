{
 "cells": [
  {
   "cell_type": "code",
   "execution_count": 1,
   "id": "2469585a",
   "metadata": {},
   "outputs": [],
   "source": [
    "import pandas as pd   #Veri seti üzerinde işlem yapmak\n",
    "import numpy as np    #Matematik işlem "
   ]
  },
  {
   "cell_type": "code",
   "execution_count": 2,
   "id": "fc4d08a8",
   "metadata": {},
   "outputs": [],
   "source": [
    "df = pd.read_csv('atis_intents.csv') # Veri setinin okunması."
   ]
  },
  {
   "cell_type": "code",
   "execution_count": 3,
   "id": "b4ec6bda",
   "metadata": {},
   "outputs": [
    {
     "data": {
      "text/html": [
       "<div>\n",
       "<style scoped>\n",
       "    .dataframe tbody tr th:only-of-type {\n",
       "        vertical-align: middle;\n",
       "    }\n",
       "\n",
       "    .dataframe tbody tr th {\n",
       "        vertical-align: top;\n",
       "    }\n",
       "\n",
       "    .dataframe thead th {\n",
       "        text-align: right;\n",
       "    }\n",
       "</style>\n",
       "<table border=\"1\" class=\"dataframe\">\n",
       "  <thead>\n",
       "    <tr style=\"text-align: right;\">\n",
       "      <th></th>\n",
       "      <th>subject</th>\n",
       "      <th>review</th>\n",
       "    </tr>\n",
       "  </thead>\n",
       "  <tbody>\n",
       "    <tr>\n",
       "      <th>0</th>\n",
       "      <td>atis_flight</td>\n",
       "      <td>i want to fly from boston at 838 am and arriv...</td>\n",
       "    </tr>\n",
       "    <tr>\n",
       "      <th>1</th>\n",
       "      <td>atis_flight</td>\n",
       "      <td>what flights are available from pittsburgh to...</td>\n",
       "    </tr>\n",
       "    <tr>\n",
       "      <th>2</th>\n",
       "      <td>atis_flight_time</td>\n",
       "      <td>what is the arrival time in san francisco for...</td>\n",
       "    </tr>\n",
       "    <tr>\n",
       "      <th>3</th>\n",
       "      <td>atis_airfare</td>\n",
       "      <td>cheapest airfare from tacoma to orlando</td>\n",
       "    </tr>\n",
       "    <tr>\n",
       "      <th>4</th>\n",
       "      <td>atis_airfare</td>\n",
       "      <td>round trip fares from pittsburgh to philadelp...</td>\n",
       "    </tr>\n",
       "    <tr>\n",
       "      <th>5</th>\n",
       "      <td>atis_flight</td>\n",
       "      <td>i need a flight tomorrow from columbus to min...</td>\n",
       "    </tr>\n",
       "    <tr>\n",
       "      <th>6</th>\n",
       "      <td>atis_aircraft</td>\n",
       "      <td>what kind of aircraft is used on a flight fro...</td>\n",
       "    </tr>\n",
       "    <tr>\n",
       "      <th>7</th>\n",
       "      <td>atis_flight</td>\n",
       "      <td>show me the flights from pittsburgh to los an...</td>\n",
       "    </tr>\n",
       "    <tr>\n",
       "      <th>8</th>\n",
       "      <td>atis_flight</td>\n",
       "      <td>all flights from boston to washington</td>\n",
       "    </tr>\n",
       "    <tr>\n",
       "      <th>9</th>\n",
       "      <td>atis_ground_service</td>\n",
       "      <td>what kind of ground transportation is availab...</td>\n",
       "    </tr>\n",
       "  </tbody>\n",
       "</table>\n",
       "</div>"
      ],
      "text/plain": [
       "               subject                                             review\n",
       "0          atis_flight   i want to fly from boston at 838 am and arriv...\n",
       "1          atis_flight   what flights are available from pittsburgh to...\n",
       "2     atis_flight_time   what is the arrival time in san francisco for...\n",
       "3         atis_airfare            cheapest airfare from tacoma to orlando\n",
       "4         atis_airfare   round trip fares from pittsburgh to philadelp...\n",
       "5          atis_flight   i need a flight tomorrow from columbus to min...\n",
       "6        atis_aircraft   what kind of aircraft is used on a flight fro...\n",
       "7          atis_flight   show me the flights from pittsburgh to los an...\n",
       "8          atis_flight              all flights from boston to washington\n",
       "9  atis_ground_service   what kind of ground transportation is availab..."
      ]
     },
     "execution_count": 3,
     "metadata": {},
     "output_type": "execute_result"
    }
   ],
   "source": [
    "df.head(10)  #Veri setinin ilk 10 elemanını tablo olarak gösterir"
   ]
  },
  {
   "cell_type": "code",
   "execution_count": 4,
   "id": "e848ad12",
   "metadata": {},
   "outputs": [
    {
     "name": "stdout",
     "output_type": "stream",
     "text": [
      "<class 'pandas.core.frame.DataFrame'>\n",
      "RangeIndex: 4978 entries, 0 to 4977\n",
      "Data columns (total 2 columns):\n",
      " #   Column   Non-Null Count  Dtype \n",
      "---  ------   --------------  ----- \n",
      " 0   subject  4978 non-null   object\n",
      " 1   review   4978 non-null   object\n",
      "dtypes: object(2)\n",
      "memory usage: 77.9+ KB\n"
     ]
    }
   ],
   "source": [
    "df.info() # Veri seti hakkında genel bilgi. Boş değer olmadığı gözüküyor."
   ]
  },
  {
   "cell_type": "code",
   "execution_count": 5,
   "id": "55ae3572",
   "metadata": {},
   "outputs": [
    {
     "data": {
      "text/plain": [
       "atis_flight                                 3666\n",
       "atis_airfare                                 423\n",
       "atis_ground_service                          255\n",
       "atis_airline                                 157\n",
       "atis_abbreviation                            147\n",
       "atis_aircraft                                 81\n",
       "atis_flight_time                              54\n",
       "atis_quantity                                 51\n",
       "atis_flight#atis_airfare                      21\n",
       "atis_airport                                  20\n",
       "atis_distance                                 20\n",
       "atis_city                                     19\n",
       "atis_ground_fare                              18\n",
       "atis_capacity                                 16\n",
       "atis_flight_no                                12\n",
       "atis_meal                                      6\n",
       "atis_restriction                               6\n",
       "atis_airline#atis_flight_no                    2\n",
       "atis_ground_service#atis_ground_fare           1\n",
       "atis_airfare#atis_flight_time                  1\n",
       "atis_cheapest                                  1\n",
       "atis_aircraft#atis_flight#atis_flight_no       1\n",
       "Name: subject, dtype: int64"
      ]
     },
     "execution_count": 5,
     "metadata": {},
     "output_type": "execute_result"
    }
   ],
   "source": [
    "df['subject'].value_counts() # Unique konuların veri miktarları. 22 adet konu bulunmakta."
   ]
  },
  {
   "cell_type": "code",
   "execution_count": 6,
   "id": "fcb70d41",
   "metadata": {},
   "outputs": [],
   "source": [
    "import nltk                                 #Dil kütüphanesi\n",
    "from nltk.corpus import stopwords\n",
    "import textblob\n",
    "from textblob import Word\n",
    "\n",
    "sw=stopwords.words(\"english\")"
   ]
  },
  {
   "cell_type": "code",
   "execution_count": 7,
   "id": "3f4655eb",
   "metadata": {},
   "outputs": [],
   "source": [
    "def data_cleaning(df,choice): \n",
    "    df = df.applymap(lambda s: s.lower() if type(s) == str else s) # Tüm metinler küçük harf formatına dönüştürülür\n",
    "    df[\"review\"]=df[\"review\"].str.replace(\"[^\\w\\s]\",\"\") # Noktalama işaretlerinin silinmesi\n",
    "    df[\"review\"]=df[\"review\"].str.replace(\"\\d\",\"\") # Sayıların silinmesi\n",
    "    df[\"review\"]=df[\"review\"].apply(lambda x: \" \".join(x for x in x.split() if x not in sw)) # Stopwords kelimelerin silinmesi\n",
    "    if choice == 1:\n",
    "        df[\"review\"]=df[\"review\"].apply(lambda x: \" \".join(Word(i).lemmatize() for i in x.split())) # lemmatization\n",
    "    elif choice == 2:\n",
    "        df[\"review\"]=df[\"review\"].apply(lambda x: \" \".join(Word(i).stem() for i in x.split())) # Stemming\n",
    "    return df['review']"
   ]
  },
  {
   "cell_type": "code",
   "execution_count": 8,
   "id": "204be7e6",
   "metadata": {},
   "outputs": [
    {
     "name": "stderr",
     "output_type": "stream",
     "text": [
      "C:\\Users\\OSMAN\\AppData\\Local\\Temp/ipykernel_12604/4157181971.py:3: FutureWarning: The default value of regex will change from True to False in a future version.\n",
      "  df[\"review\"]=df[\"review\"].str.replace(\"[^\\w\\s]\",\"\") # Noktalama işaretlerinin silinmesi\n",
      "C:\\Users\\OSMAN\\AppData\\Local\\Temp/ipykernel_12604/4157181971.py:4: FutureWarning: The default value of regex will change from True to False in a future version.\n",
      "  df[\"review\"]=df[\"review\"].str.replace(\"\\d\",\"\") # Sayıların silinmesi\n"
     ]
    }
   ],
   "source": [
    "df['review']=data_cleaning(df, 1) # Veri temizleme"
   ]
  },
  {
   "cell_type": "code",
   "execution_count": 9,
   "id": "edb76d58",
   "metadata": {},
   "outputs": [],
   "source": [
    "from sklearn.feature_extraction.text import TfidfVectorizer # Vektörleştirme için TF-IDF"
   ]
  },
  {
   "cell_type": "code",
   "execution_count": 10,
   "id": "22ab70a3",
   "metadata": {},
   "outputs": [
    {
     "name": "stderr",
     "output_type": "stream",
     "text": [
      "C:\\Users\\OSMAN\\anaconda3\\lib\\site-packages\\sklearn\\feature_extraction\\text.py:1801: UserWarning: Only (<class 'numpy.float64'>, <class 'numpy.float32'>, <class 'numpy.float16'>) 'dtype' should be used. <class 'numpy.int8'> 'dtype' will be converted to np.float64.\n",
      "  warnings.warn(\"Only {} 'dtype' should be used. {} 'dtype' will \"\n"
     ]
    }
   ],
   "source": [
    "vectorizer = TfidfVectorizer(lowercase=False,ngram_range=(1,2),dtype=np.byte)\n",
    "X = vectorizer.fit_transform(df['review'].tolist())"
   ]
  },
  {
   "cell_type": "code",
   "execution_count": 11,
   "id": "a66edf51",
   "metadata": {},
   "outputs": [],
   "source": [
    "from sklearn.preprocessing import LabelEncoder\n",
    "# Tahminlemenin performansını değerlendirebilmek için stringler sayısal olarak ifade edilir.\n",
    "le = LabelEncoder()\n",
    "df['subject'] = le.fit_transform(df['subject'])"
   ]
  },
  {
   "cell_type": "code",
   "execution_count": 12,
   "id": "ee560a97",
   "metadata": {},
   "outputs": [],
   "source": [
    "from sklearn.model_selection import train_test_split"
   ]
  },
  {
   "cell_type": "code",
   "execution_count": 13,
   "id": "851e8a82",
   "metadata": {},
   "outputs": [],
   "source": [
    "X_train,X_test,y_train,y_test = train_test_split(X,df['subject'],random_state=1,test_size=0.2) # Veri setinin bölünmesi."
   ]
  },
  {
   "cell_type": "code",
   "execution_count": 14,
   "id": "d53a59f2",
   "metadata": {},
   "outputs": [],
   "source": [
    "df_cluster_train = pd.DataFrame(data={'cluster': y_train, 'vector': X_train.toarray().tolist()}) # Eğitim verisinin veri seti haline getirilmesi"
   ]
  },
  {
   "cell_type": "code",
   "execution_count": 15,
   "id": "163a7191",
   "metadata": {},
   "outputs": [],
   "source": [
    "df_cluster_test = pd.DataFrame(data={'cluster': y_test, 'vector': X_test.toarray().tolist()}) # Test verisinin veri seti haline getirilmesi"
   ]
  },
  {
   "cell_type": "code",
   "execution_count": 16,
   "id": "a4da60a3",
   "metadata": {},
   "outputs": [],
   "source": [
    "df_cluster_train['vector'] = df_cluster_train['vector'].apply(lambda x: np.array(x)) #eğitim veri setinin vektörü alınması\n",
    "df_cluster_test['vector'] = df_cluster_test['vector'].apply(lambda x: np.array(x))   #test veri setinin vektörü alınması"
   ]
  },
  {
   "cell_type": "code",
   "execution_count": 17,
   "id": "96568379",
   "metadata": {},
   "outputs": [
    {
     "data": {
      "text/html": [
       "<div>\n",
       "<style scoped>\n",
       "    .dataframe tbody tr th:only-of-type {\n",
       "        vertical-align: middle;\n",
       "    }\n",
       "\n",
       "    .dataframe tbody tr th {\n",
       "        vertical-align: top;\n",
       "    }\n",
       "\n",
       "    .dataframe thead th {\n",
       "        text-align: right;\n",
       "    }\n",
       "</style>\n",
       "<table border=\"1\" class=\"dataframe\">\n",
       "  <thead>\n",
       "    <tr style=\"text-align: right;\">\n",
       "      <th></th>\n",
       "      <th>cluster</th>\n",
       "      <th>vector</th>\n",
       "    </tr>\n",
       "  </thead>\n",
       "  <tbody>\n",
       "    <tr>\n",
       "      <th>1038</th>\n",
       "      <td>12</td>\n",
       "      <td>[0.0, 0.0, 0.0, 0.0, 0.0, 0.0, 0.0, 0.0, 0.0, ...</td>\n",
       "    </tr>\n",
       "    <tr>\n",
       "      <th>2781</th>\n",
       "      <td>12</td>\n",
       "      <td>[0.0, 0.0, 0.0, 0.0, 0.0, 0.0, 0.0, 0.0, 0.0, ...</td>\n",
       "    </tr>\n",
       "    <tr>\n",
       "      <th>2139</th>\n",
       "      <td>12</td>\n",
       "      <td>[0.0, 0.0, 0.0, 0.0, 0.0, 0.0, 0.0, 0.0, 0.0, ...</td>\n",
       "    </tr>\n",
       "    <tr>\n",
       "      <th>2641</th>\n",
       "      <td>3</td>\n",
       "      <td>[0.0, 0.0, 0.0, 0.0, 0.0, 0.0, 0.0, 0.0, 0.0, ...</td>\n",
       "    </tr>\n",
       "    <tr>\n",
       "      <th>1216</th>\n",
       "      <td>12</td>\n",
       "      <td>[0.0, 0.0, 0.0, 0.0, 0.0, 0.0, 0.0, 0.0, 0.0, ...</td>\n",
       "    </tr>\n",
       "  </tbody>\n",
       "</table>\n",
       "</div>"
      ],
      "text/plain": [
       "      cluster                                             vector\n",
       "1038       12  [0.0, 0.0, 0.0, 0.0, 0.0, 0.0, 0.0, 0.0, 0.0, ...\n",
       "2781       12  [0.0, 0.0, 0.0, 0.0, 0.0, 0.0, 0.0, 0.0, 0.0, ...\n",
       "2139       12  [0.0, 0.0, 0.0, 0.0, 0.0, 0.0, 0.0, 0.0, 0.0, ...\n",
       "2641        3  [0.0, 0.0, 0.0, 0.0, 0.0, 0.0, 0.0, 0.0, 0.0, ...\n",
       "1216       12  [0.0, 0.0, 0.0, 0.0, 0.0, 0.0, 0.0, 0.0, 0.0, ..."
      ]
     },
     "execution_count": 17,
     "metadata": {},
     "output_type": "execute_result"
    }
   ],
   "source": [
    "df_cluster_train.head()"
   ]
  },
  {
   "cell_type": "code",
   "execution_count": 18,
   "id": "c09ff985",
   "metadata": {},
   "outputs": [
    {
     "data": {
      "text/plain": [
       "cluster\n",
       "0     [0.0, 0.0, 0.01300200368030033, 0.003842355876...\n",
       "1     [0.0, 0.0, 0.0, 0.0, 0.0, 0.0, 0.0, 0.0, 0.0, ...\n",
       "2     [0.0, 0.0, 0.0, 0.0, 0.0, 0.0, 0.0, 0.0, 0.0, ...\n",
       "3     [0.0, 0.0, 0.0, 0.0, 0.0, 0.0, 0.0, 0.0, 0.0, ...\n",
       "4     [0.0, 0.0, 0.0, 0.0, 0.0, 0.0, 0.0, 0.0, 0.0, ...\n",
       "5     [0.0, 0.0, 0.011715458403966015, 0.0, 0.0, 0.0...\n",
       "6     [0.0, 0.0, 0.0, 0.0, 0.0, 0.0, 0.0, 0.0, 0.0, ...\n",
       "7     [0.0, 0.0, 0.0, 0.0, 0.0, 0.0, 0.0, 0.0, 0.0, ...\n",
       "8     [0.0, 0.0, 0.0, 0.0, 0.0, 0.0, 0.0, 0.0, 0.0, ...\n",
       "9     [0.0, 0.0, 0.0, 0.0, 0.0, 0.0, 0.0, 0.0, 0.0, ...\n",
       "10    [0.0, 0.0, 0.0, 0.0, 0.0, 0.0, 0.0, 0.0, 0.0, ...\n",
       "11    [0.0, 0.0, 0.0, 0.0, 0.0, 0.0, 0.0, 0.0, 0.0, ...\n",
       "12    [0.0, 0.0, 0.0, 0.0, 0.0, 0.0, 0.0, 0.0, 9.591...\n",
       "13    [0.0, 0.0, 0.0, 0.0, 0.0, 0.0, 0.0, 0.0, 0.0, ...\n",
       "14    [0.0, 0.0, 0.0, 0.0, 0.0, 0.0, 0.0, 0.0, 0.0, ...\n",
       "15    [0.00993094559106707, 0.00993094559106707, 0.0...\n",
       "16    [0.0, 0.0, 0.0, 0.0, 0.0, 0.0, 0.0, 0.0, 0.0, ...\n",
       "17    [0.0, 0.0, 0.0, 0.0, 0.0, 0.0, 0.0, 0.0, 0.0, ...\n",
       "18    [0.0, 0.0, 0.0, 0.0, 0.0, 0.0, 0.0, 0.0, 0.0, ...\n",
       "19    [0.0, 0.0, 0.0, 0.0, 0.0, 0.0, 0.0, 0.0, 0.0, ...\n",
       "20    [0.0, 0.0, 0.0, 0.0, 0.0, 0.0, 0.0, 0.0, 0.0, ...\n",
       "21    [0.0, 0.0, 0.0, 0.0, 0.0, 0.0, 0.0, 0.0, 0.0, ...\n",
       "Name: vector, dtype: object"
      ]
     },
     "execution_count": 18,
     "metadata": {},
     "output_type": "execute_result"
    }
   ],
   "source": [
    "df_cluster_train.groupby('cluster')['vector'].apply(np.mean) # Küme merkezleri için vektörlerin ortalaması alınır."
   ]
  },
  {
   "cell_type": "code",
   "execution_count": 19,
   "id": "612ad89e",
   "metadata": {},
   "outputs": [],
   "source": [
    "centroids = df_cluster_train.groupby('cluster')['vector'].apply(np.mean).tolist() # Küme merkezlerinin listesi.\n",
    "clusters = range(0,22)"
   ]
  },
  {
   "cell_type": "code",
   "execution_count": 20,
   "id": "2381a206",
   "metadata": {},
   "outputs": [
    {
     "data": {
      "text/html": [
       "<div>\n",
       "<style scoped>\n",
       "    .dataframe tbody tr th:only-of-type {\n",
       "        vertical-align: middle;\n",
       "    }\n",
       "\n",
       "    .dataframe tbody tr th {\n",
       "        vertical-align: top;\n",
       "    }\n",
       "\n",
       "    .dataframe thead th {\n",
       "        text-align: right;\n",
       "    }\n",
       "</style>\n",
       "<table border=\"1\" class=\"dataframe\">\n",
       "  <thead>\n",
       "    <tr style=\"text-align: right;\">\n",
       "      <th></th>\n",
       "      <th>cluster</th>\n",
       "      <th>vector</th>\n",
       "    </tr>\n",
       "  </thead>\n",
       "  <tbody>\n",
       "    <tr>\n",
       "      <th>3547</th>\n",
       "      <td>12</td>\n",
       "      <td>[0.0, 0.0, 0.0, 0.0, 0.0, 0.0, 0.0, 0.0, 0.0, ...</td>\n",
       "    </tr>\n",
       "    <tr>\n",
       "      <th>248</th>\n",
       "      <td>12</td>\n",
       "      <td>[0.0, 0.0, 0.0, 0.0, 0.0, 0.0, 0.0, 0.0, 0.0, ...</td>\n",
       "    </tr>\n",
       "    <tr>\n",
       "      <th>1653</th>\n",
       "      <td>12</td>\n",
       "      <td>[0.0, 0.0, 0.0, 0.0, 0.0, 0.0, 0.0, 0.0, 0.0, ...</td>\n",
       "    </tr>\n",
       "    <tr>\n",
       "      <th>2689</th>\n",
       "      <td>12</td>\n",
       "      <td>[0.0, 0.0, 0.0, 0.0, 0.0, 0.0, 0.0, 0.0, 0.0, ...</td>\n",
       "    </tr>\n",
       "    <tr>\n",
       "      <th>3128</th>\n",
       "      <td>12</td>\n",
       "      <td>[0.0, 0.0, 0.0, 0.0, 0.0, 0.0, 0.0, 0.0, 0.0, ...</td>\n",
       "    </tr>\n",
       "  </tbody>\n",
       "</table>\n",
       "</div>"
      ],
      "text/plain": [
       "      cluster                                             vector\n",
       "3547       12  [0.0, 0.0, 0.0, 0.0, 0.0, 0.0, 0.0, 0.0, 0.0, ...\n",
       "248        12  [0.0, 0.0, 0.0, 0.0, 0.0, 0.0, 0.0, 0.0, 0.0, ...\n",
       "1653       12  [0.0, 0.0, 0.0, 0.0, 0.0, 0.0, 0.0, 0.0, 0.0, ...\n",
       "2689       12  [0.0, 0.0, 0.0, 0.0, 0.0, 0.0, 0.0, 0.0, 0.0, ...\n",
       "3128       12  [0.0, 0.0, 0.0, 0.0, 0.0, 0.0, 0.0, 0.0, 0.0, ..."
      ]
     },
     "execution_count": 20,
     "metadata": {},
     "output_type": "execute_result"
    }
   ],
   "source": [
    "df_cluster_test.head()"
   ]
  },
  {
   "cell_type": "code",
   "execution_count": 21,
   "id": "7a689525",
   "metadata": {},
   "outputs": [
    {
     "name": "stderr",
     "output_type": "stream",
     "text": [
      "C:\\Users\\OSMAN\\anaconda3\\lib\\site-packages\\scipy\\spatial\\distance.py:699: RuntimeWarning: invalid value encountered in double_scalars\n",
      "  dist = 1.0 - uv / np.sqrt(uu * vv)\n"
     ]
    }
   ],
   "source": [
    "from scipy import spatial\n",
    "\n",
    "predicts = []\n",
    "for i in df_cluster_test.vector:\n",
    "    distances = []\n",
    "    for j in centroids:\n",
    "        distances.append(1 - spatial.distance.cosine(i,j)) # Her noktanın küme merkezlerine olan kosünüs benzerliğinin hesaplanması.\n",
    "    index = distances.index(max(distances)) # En benzer olan küme merkezinin indisi alınır.\n",
    "    predicts.append(clusters[index]) # Alınan indise göre bulunan kümenin adı tahmin olarak alınır."
   ]
  },
  {
   "cell_type": "code",
   "execution_count": 22,
   "id": "996ebee0",
   "metadata": {},
   "outputs": [],
   "source": [
    "df_cluster_test['predict'] = predicts # Tahminler test veri setine eklenir."
   ]
  },
  {
   "cell_type": "code",
   "execution_count": 23,
   "id": "eac8b0d4",
   "metadata": {},
   "outputs": [
    {
     "data": {
      "text/html": [
       "<div>\n",
       "<style scoped>\n",
       "    .dataframe tbody tr th:only-of-type {\n",
       "        vertical-align: middle;\n",
       "    }\n",
       "\n",
       "    .dataframe tbody tr th {\n",
       "        vertical-align: top;\n",
       "    }\n",
       "\n",
       "    .dataframe thead th {\n",
       "        text-align: right;\n",
       "    }\n",
       "</style>\n",
       "<table border=\"1\" class=\"dataframe\">\n",
       "  <thead>\n",
       "    <tr style=\"text-align: right;\">\n",
       "      <th></th>\n",
       "      <th>cluster</th>\n",
       "      <th>vector</th>\n",
       "      <th>predict</th>\n",
       "    </tr>\n",
       "  </thead>\n",
       "  <tbody>\n",
       "    <tr>\n",
       "      <th>3547</th>\n",
       "      <td>12</td>\n",
       "      <td>[0.0, 0.0, 0.0, 0.0, 0.0, 0.0, 0.0, 0.0, 0.0, ...</td>\n",
       "      <td>12</td>\n",
       "    </tr>\n",
       "    <tr>\n",
       "      <th>248</th>\n",
       "      <td>12</td>\n",
       "      <td>[0.0, 0.0, 0.0, 0.0, 0.0, 0.0, 0.0, 0.0, 0.0, ...</td>\n",
       "      <td>12</td>\n",
       "    </tr>\n",
       "    <tr>\n",
       "      <th>1653</th>\n",
       "      <td>12</td>\n",
       "      <td>[0.0, 0.0, 0.0, 0.0, 0.0, 0.0, 0.0, 0.0, 0.0, ...</td>\n",
       "      <td>12</td>\n",
       "    </tr>\n",
       "    <tr>\n",
       "      <th>2689</th>\n",
       "      <td>12</td>\n",
       "      <td>[0.0, 0.0, 0.0, 0.0, 0.0, 0.0, 0.0, 0.0, 0.0, ...</td>\n",
       "      <td>12</td>\n",
       "    </tr>\n",
       "    <tr>\n",
       "      <th>3128</th>\n",
       "      <td>12</td>\n",
       "      <td>[0.0, 0.0, 0.0, 0.0, 0.0, 0.0, 0.0, 0.0, 0.0, ...</td>\n",
       "      <td>6</td>\n",
       "    </tr>\n",
       "  </tbody>\n",
       "</table>\n",
       "</div>"
      ],
      "text/plain": [
       "      cluster                                             vector  predict\n",
       "3547       12  [0.0, 0.0, 0.0, 0.0, 0.0, 0.0, 0.0, 0.0, 0.0, ...       12\n",
       "248        12  [0.0, 0.0, 0.0, 0.0, 0.0, 0.0, 0.0, 0.0, 0.0, ...       12\n",
       "1653       12  [0.0, 0.0, 0.0, 0.0, 0.0, 0.0, 0.0, 0.0, 0.0, ...       12\n",
       "2689       12  [0.0, 0.0, 0.0, 0.0, 0.0, 0.0, 0.0, 0.0, 0.0, ...       12\n",
       "3128       12  [0.0, 0.0, 0.0, 0.0, 0.0, 0.0, 0.0, 0.0, 0.0, ...        6"
      ]
     },
     "execution_count": 23,
     "metadata": {},
     "output_type": "execute_result"
    }
   ],
   "source": [
    "df_cluster_test.head()"
   ]
  },
  {
   "cell_type": "code",
   "execution_count": 24,
   "id": "7e12d454",
   "metadata": {
    "scrolled": true
   },
   "outputs": [
    {
     "name": "stdout",
     "output_type": "stream",
     "text": [
      "Accuracy Score for Clustering 0.8323293172690763\n"
     ]
    }
   ],
   "source": [
    "from sklearn.metrics import accuracy_score #doğruluk skorunun hesaplanabilmesi için gerekli olan kütüphane\n",
    "\n",
    "pred = df_cluster_test.predict # Tahminler liste olarak alınır.\n",
    "true = df_cluster_test.cluster # Gerçek değerler liste olarak alınır.\n",
    "print(\"Accuracy Score for Clustering\",accuracy_score(true, pred)) # Modelin doğruluğu hesaplanır."
   ]
  },
  {
   "cell_type": "code",
   "execution_count": 25,
   "id": "e5dfa196",
   "metadata": {},
   "outputs": [
    {
     "name": "stdout",
     "output_type": "stream",
     "text": [
      "Accuracy Score on traning data:  0.9337016574585635\n",
      "Accuracy Score on test data:  0.9116465863453815\n",
      "Accuracy Score:  0.9116465863453815\n"
     ]
    }
   ],
   "source": [
    "from sklearn.linear_model import LogisticRegression #lojistik regresyon modeli için gerekli olan kütüphane\n",
    "lr=LogisticRegression()\n",
    "model_lr=lr.fit(X_train,y_train)\n",
    "prediction_lr=model_lr.predict(X_test)\n",
    "print(\"Accuracy Score on traning data: \",lr.score(X_train,y_train))\n",
    "print(\"Accuracy Score on test data: \",lr.score(X_test,y_test))\n",
    "print(\"Accuracy Score: \",accuracy_score(y_test, prediction_lr))"
   ]
  },
  {
   "cell_type": "code",
   "execution_count": 26,
   "id": "64e23a20",
   "metadata": {},
   "outputs": [
    {
     "name": "stdout",
     "output_type": "stream",
     "text": [
      "Accuracy Score on traning data 0.8375188347564038\n",
      "Accuracy Score on test data 0.8363453815261044\n",
      "Accuracy Score:  0.8363453815261044\n"
     ]
    }
   ],
   "source": [
    "from sklearn.naive_bayes import MultinomialNB  #multinomial naive bayes modeli için gerekli olan kütüphane\n",
    "mnb=MultinomialNB()\n",
    "mnb.fit(X_train,y_train)\n",
    "y_pred=mnb.predict(X_test)\n",
    "print(\"Accuracy Score on traning data\",mnb.score(X_train,y_train))\n",
    "print(\"Accuracy Score on test data\",mnb.score(X_test,y_test))\n",
    "print(\"Accuracy Score: \",accuracy_score(y_test, y_pred))"
   ]
  },
  {
   "cell_type": "code",
   "execution_count": 27,
   "id": "adc60ab6",
   "metadata": {},
   "outputs": [
    {
     "name": "stdout",
     "output_type": "stream",
     "text": [
      "Accuracy Score on traning data 0.9974886991461577\n",
      "Accuracy Score on test data 0.9568273092369478\n",
      "Accuracy Score:  0.9568273092369478\n"
     ]
    }
   ],
   "source": [
    "from sklearn import svm #sınıflandırma veya regresyon problemleri için kullanılabilen denetimli bir makine öğrenmesi algoritmasıdır\n",
    "svc = svm.LinearSVC()\n",
    "svc.fit(X_train,y_train)\n",
    "y_pred=svc.predict(X_test)\n",
    "print(\"Accuracy Score on traning data\",svc.score(X_train,y_train))\n",
    "print(\"Accuracy Score on test data\",svc.score(X_test,y_test))\n",
    "print(\"Accuracy Score: \",accuracy_score(y_test, y_pred))"
   ]
  },
  {
   "cell_type": "code",
   "execution_count": null,
   "id": "e6c7a045",
   "metadata": {},
   "outputs": [],
   "source": []
  },
  {
   "cell_type": "code",
   "execution_count": null,
   "id": "7285fda9",
   "metadata": {},
   "outputs": [],
   "source": []
  },
  {
   "cell_type": "code",
   "execution_count": null,
   "id": "dbfc3f65",
   "metadata": {},
   "outputs": [],
   "source": []
  },
  {
   "cell_type": "code",
   "execution_count": null,
   "id": "4a679235",
   "metadata": {},
   "outputs": [],
   "source": []
  },
  {
   "cell_type": "code",
   "execution_count": null,
   "id": "6bd45435",
   "metadata": {},
   "outputs": [],
   "source": []
  },
  {
   "cell_type": "code",
   "execution_count": null,
   "id": "4f5a2000",
   "metadata": {},
   "outputs": [],
   "source": []
  },
  {
   "cell_type": "code",
   "execution_count": null,
   "id": "fb97ab3e",
   "metadata": {},
   "outputs": [],
   "source": []
  },
  {
   "cell_type": "code",
   "execution_count": null,
   "id": "f2862d0c",
   "metadata": {},
   "outputs": [],
   "source": []
  }
 ],
 "metadata": {
  "kernelspec": {
   "display_name": "Python 3 (ipykernel)",
   "language": "python",
   "name": "python3"
  },
  "language_info": {
   "codemirror_mode": {
    "name": "ipython",
    "version": 3
   },
   "file_extension": ".py",
   "mimetype": "text/x-python",
   "name": "python",
   "nbconvert_exporter": "python",
   "pygments_lexer": "ipython3",
   "version": "3.9.7"
  }
 },
 "nbformat": 4,
 "nbformat_minor": 5
}
